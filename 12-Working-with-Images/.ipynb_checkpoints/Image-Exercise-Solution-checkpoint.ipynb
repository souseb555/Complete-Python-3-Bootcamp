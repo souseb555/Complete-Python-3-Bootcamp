{
 "cells": [
  {
   "cell_type": "markdown",
   "metadata": {},
   "source": [
    "# Image Exercise - Solution\n",
    "\n",
    "In the folder \"Working with Images\" (same folder this notebook is located in) there are two images we will be working with:\n",
    "* word_matrix.png\n",
    "* mask.png\n",
    "\n",
    "The word_matrix is a .png image that contains a spreadsheet of words with a hidden message in it. \n",
    "\n",
    "Your task is to use the mask.png image to reveal the hidden message inside the word_matrix.png. Keep in mind, you may need to resize the mask.png in order for this to work.\n",
    "\n",
    "This exercise is more open-ended, so we won't guide you with the steps, instead, letting you explore and figure things out on your own as you would in a real world situation. However, if you get stuck, you can always view the solutions video or notebook for guidance. Best of luck!"
   ]
  },
  {
   "cell_type": "code",
   "execution_count": null,
   "metadata": {},
   "outputs": [],
   "source": [
    "try:\n",
    "    from PIL import Image\n",
    "except ImportError:\n",
    "    import Image\n",
    "\n",
    "background = Image.open('word_matrix.png')\n",
    "overlay = Image.open('mask.png')\n",
    "background = background.convert(\"RGBA\")\n",
    "overlay= overlay.convert(\"RGBA\")\n",
    "new_h=1015\n",
    "new_w=559\n",
    "new_img = Image.blend(background, overlay.resize((new_h,new_w),resample=0), 0.5)\n",
    "new_img.save(\"new.png\",\"PNG\")"
   ]
  }
 ],
 "metadata": {
  "kernelspec": {
   "display_name": "Python 3",
   "language": "python",
   "name": "python3"
  },
  "language_info": {
   "codemirror_mode": {
    "name": "ipython",
    "version": 3
   },
   "file_extension": ".py",
   "mimetype": "text/x-python",
   "name": "python",
   "nbconvert_exporter": "python",
   "pygments_lexer": "ipython3",
   "version": "3.7.3"
  }
 },
 "nbformat": 4,
 "nbformat_minor": 2
}
